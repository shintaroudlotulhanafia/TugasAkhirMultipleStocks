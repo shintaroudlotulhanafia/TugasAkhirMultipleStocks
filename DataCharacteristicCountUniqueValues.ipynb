{
  "nbformat": 4,
  "nbformat_minor": 0,
  "metadata": {
    "colab": {
      "provenance": [],
      "machine_shape": "hm",
      "mount_file_id": "10vdelJNRaapMLcHM7THzxu9yoxiPSadx",
      "authorship_tag": "ABX9TyPvw+GuNIgbfI1Z7YS3SiFz",
      "include_colab_link": true
    },
    "kernelspec": {
      "name": "python3",
      "display_name": "Python 3"
    },
    "language_info": {
      "name": "python"
    },
    "accelerator": "GPU"
  },
  "cells": [
    {
      "cell_type": "markdown",
      "metadata": {
        "id": "view-in-github",
        "colab_type": "text"
      },
      "source": [
        "<a href=\"https://colab.research.google.com/github/shintaroudlotulhanafia/TugasAkhirMultipleStocks/blob/main/DataCharacteristicCountUniqueValues.ipynb\" target=\"_parent\"><img src=\"https://colab.research.google.com/assets/colab-badge.svg\" alt=\"Open In Colab\"/></a>"
      ]
    },
    {
      "cell_type": "code",
      "source": [
        "# connecting gdrive into the google colab\n",
        "from google.colab import drive\n",
        "drive.mount('/content/gdrive')"
      ],
      "metadata": {
        "colab": {
          "base_uri": "https://localhost:8080/"
        },
        "id": "iGSwZR50B-hU",
        "outputId": "6d06310c-2d59-4feb-cb49-3de84545b2ae"
      },
      "execution_count": null,
      "outputs": [
        {
          "output_type": "stream",
          "name": "stdout",
          "text": [
            "Mounted at /content/gdrive\n"
          ]
        }
      ]
    },
    {
      "cell_type": "code",
      "source": [
        "# import modules\n",
        "import pandas as pd\n",
        "# Listing files on a folder\n",
        "import os"
      ],
      "metadata": {
        "id": "umgQVA64E9pX"
      },
      "execution_count": null,
      "outputs": []
    },
    {
      "cell_type": "code",
      "source": [
        "path_fraksi1 =\"/content/gdrive/MyDrive/TASeptember2022/Hasil_Pengujian/Pengujian_I/Fraksi_FullVersion_DRLforMultipleStockTradingUsingFinRL/DatasetsPerTic/Fraksi1\"\n",
        "files_fraksi1 = os.listdir(path_fraksi1)\n",
        "\n",
        "\n",
        "\n",
        "# create empty list\n",
        "dataframes_list_fraksi1 = []\n",
        "\n",
        "# append datasets to the list\n",
        "for i in range(4):\n",
        "\ttemp_df = pd.read_csv(path_fraksi1+\"/\"+files_fraksi1[i])\n",
        "\tdataframes_list_fraksi1.append(temp_df)\n",
        " \n",
        " # display datasets\n",
        "for dataset in dataframes_list_fraksi1:\n",
        "  totalNunique += dataset['close'].nunique()\n",
        "  print(dataset['close'].nunique())\n",
        "\n",
        "print(totalNunique)"
      ],
      "metadata": {
        "colab": {
          "base_uri": "https://localhost:8080/"
        },
        "id": "sX9jPIOZByVz",
        "outputId": "68d6bcbe-cebb-4a2c-8403-a8b39a95eaeb"
      },
      "execution_count": null,
      "outputs": [
        {
          "output_type": "stream",
          "name": "stdout",
          "text": [
            "289\n",
            "186\n",
            "503\n",
            "660\n",
            "5186\n"
          ]
        }
      ]
    },
    {
      "cell_type": "code",
      "source": [
        "path_fraksi2 =\"/content/gdrive/MyDrive/TASeptember2022/Hasil_Pengujian/Pengujian_I/Fraksi_FullVersion_DRLforMultipleStockTradingUsingFinRL/DatasetsPerTic/Fraksi2\"\n",
        "files_fraksi2 = os.listdir(path_fraksi2)\n",
        "\n",
        "\n",
        "\n",
        "# create empty list\n",
        "dataframes_list_fraksi2 = []\n",
        "\n",
        "# append datasets to the list\n",
        "for i in range(4):\n",
        "\ttemp_df = pd.read_csv(path_fraksi2+\"/\"+files_fraksi2[i])\n",
        "\tdataframes_list_fraksi2.append(temp_df)\n",
        " \n",
        " # display datasets\n",
        "for dataset in dataframes_list_fraksi2:\n",
        "  totalNunique += dataset['close'].nunique()\n",
        "  print(dataset['close'].nunique())\n",
        "\n",
        "print(totalNunique)"
      ],
      "metadata": {
        "colab": {
          "base_uri": "https://localhost:8080/"
        },
        "outputId": "33412878-d7cf-41a3-d11b-52f596c36fc2",
        "id": "cYPKzUIbFaV3"
      },
      "execution_count": null,
      "outputs": [
        {
          "output_type": "stream",
          "name": "stdout",
          "text": [
            "490\n",
            "810\n",
            "220\n",
            "563\n",
            "7269\n"
          ]
        }
      ]
    },
    {
      "cell_type": "code",
      "source": [
        "path_fraksi3 =\"/content/gdrive/MyDrive/TASeptember2022/Hasil_Pengujian/Pengujian_I/Fraksi_FullVersion_DRLforMultipleStockTradingUsingFinRL/DatasetsPerTic/Fraksi3\"\n",
        "files_fraksi3 = os.listdir(path_fraksi3)\n",
        "\n",
        "\n",
        "\n",
        "# create empty list\n",
        "dataframes_list_fraksi3 = []\n",
        "\n",
        "# append datasets to the list\n",
        "for i in range(4):\n",
        "\ttemp_df = pd.read_csv(path_fraksi3+\"/\"+files_fraksi3[i])\n",
        "\tdataframes_list_fraksi3.append(temp_df)\n",
        " \n",
        " # display datasets\n",
        "totalNunique=0\n",
        "for dataset in dataframes_list_fraksi3:\n",
        "  totalNunique += dataset['close'].nunique()\n",
        "  print(dataset['close'].nunique())\n",
        "\n",
        "print(totalNunique)"
      ],
      "metadata": {
        "colab": {
          "base_uri": "https://localhost:8080/"
        },
        "outputId": "e23b4098-7976-4712-d114-ef69beacba32",
        "id": "SDOKb2GvFaiK"
      },
      "execution_count": null,
      "outputs": [
        {
          "output_type": "stream",
          "name": "stdout",
          "text": [
            "741\n",
            "781\n",
            "877\n",
            "1149\n",
            "3548\n"
          ]
        }
      ]
    },
    {
      "cell_type": "code",
      "source": [
        "path_fraksi4 =\"/content/gdrive/MyDrive/TASeptember2022/Hasil_Pengujian/Pengujian_I/Fraksi_FullVersion_DRLforMultipleStockTradingUsingFinRL/DatasetsPerTic/Fraksi4\"\n",
        "files_fraksi4 = os.listdir(path_fraksi4)\n",
        "\n",
        "\n",
        "\n",
        "# create empty list\n",
        "dataframes_list_fraksi4 = []\n",
        "\n",
        "# append datasets to the list\n",
        "for i in range(4):\n",
        "\ttemp_df = pd.read_csv(path_fraksi4+\"/\"+files_fraksi4[i])\n",
        "\tdataframes_list_fraksi4.append(temp_df)\n",
        " \n",
        " # display datasets\n",
        "for dataset in dataframes_list_fraksi4:\n",
        "  totalNunique += dataset['close'].nunique()\n",
        "  print(dataset['close'].nunique())\n",
        "\n",
        "print(totalNunique)"
      ],
      "metadata": {
        "colab": {
          "base_uri": "https://localhost:8080/"
        },
        "outputId": "86f21f71-2d31-4adb-ccb7-7c1c11ac3688",
        "id": "fauNNxfJFauI"
      },
      "execution_count": null,
      "outputs": [
        {
          "output_type": "stream",
          "name": "stdout",
          "text": [
            "379\n",
            "565\n",
            "849\n",
            "1542\n",
            "6883\n"
          ]
        }
      ]
    },
    {
      "cell_type": "code",
      "source": [
        "path_fraksi5 =\"/content/gdrive/MyDrive/TASeptember2022/Hasil_Pengujian/Pengujian_I/Fraksi_FullVersion_DRLforMultipleStockTradingUsingFinRL/DatasetsPerTic/Fraksi5\"\n",
        "files_fraksi5 = os.listdir(path_fraksi5)\n",
        "\n",
        "\n",
        "\n",
        "# create empty list\n",
        "dataframes_list_fraksi5 = []\n",
        "\n",
        "# append datasets to the list\n",
        "for i in range(4):\n",
        "\ttemp_df = pd.read_csv(path_fraksi5+\"/\"+files_fraksi5[i])\n",
        "\tdataframes_list_fraksi5.append(temp_df)\n",
        " \n",
        " # display datasets\n",
        "for dataset in dataframes_list_fraksi5:\n",
        "  totalNunique += dataset['close'].nunique()\n",
        "  print(dataset['close'].nunique())\n",
        "\n",
        "print(totalNunique)"
      ],
      "metadata": {
        "colab": {
          "base_uri": "https://localhost:8080/"
        },
        "outputId": "45c0b336-18c2-4d67-c0b6-51c0b672af2a",
        "id": "uR6X2jPIF-kF"
      },
      "execution_count": null,
      "outputs": [
        {
          "output_type": "stream",
          "name": "stdout",
          "text": [
            "1362\n",
            "794\n",
            "949\n",
            "1726\n",
            "11714\n"
          ]
        }
      ]
    }
  ]
}